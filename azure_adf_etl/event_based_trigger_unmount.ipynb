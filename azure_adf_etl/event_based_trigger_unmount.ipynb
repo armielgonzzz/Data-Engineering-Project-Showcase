{
 "cells": [
  {
   "cell_type": "code",
   "execution_count": 0,
   "metadata": {
    "application/vnd.databricks.v1+cell": {
     "cellMetadata": {},
     "inputWidgets": {},
     "nuid": "18773507-e133-4cfd-b1e3-ba86320dba2b",
     "showTitle": false,
     "title": ""
    }
   },
   "outputs": [],
   "source": [
    "# Get container name from the pipeline parameter\n",
    "container_name = dbutils.widgets.get('containerName')\n",
    "\n",
    "# Unmount the returned container_name\n",
    "dbutils.fs.unmount(f'/mnt/{container_name}/')"
   ]
  }
 ],
 "metadata": {
  "application/vnd.databricks.v1+notebook": {
   "dashboards": [],
   "environmentMetadata": null,
   "language": "python",
   "notebookMetadata": {
    "pythonIndentUnit": 4
   },
   "notebookName": "event_based_trigger_unmount",
   "widgets": {}
  }
 },
 "nbformat": 4,
 "nbformat_minor": 0
}
